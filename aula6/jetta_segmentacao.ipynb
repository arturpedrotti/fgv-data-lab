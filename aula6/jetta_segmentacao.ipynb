{
 "cells": [
  {
   "cell_type": "code",
   "execution_count": null,
   "metadata": {
    "collapsed": true
   },
   "outputs": [],
   "source": [
    "import pandas as pd\n",
    "import matplotlib.pyplot as plt\n",
    "import numpy as np\n",
    "import seaborn as sns\n",
    "from sklearn.feature_extraction.text import TfidfVectorizer\n",
    "from sklearn.preprocessing import StandardScaler\n",
    "from sklearn.decomposition import PCA, NMF, LatentDirichletAllocation\n",
    "from sklearn.cluster import KMeans\n",
    "import warnings\n",
    "warnings.filterwarnings('ignore')"
   ]
  },
  {
   "cell_type": "markdown",
   "source": [
    "### Abrindo a base"
   ],
   "metadata": {
    "collapsed": false
   }
  },
  {
   "cell_type": "code",
   "execution_count": null,
   "outputs": [],
   "source": [
    "jetta = pd.read_csv('../bases/jetta_tiktok.csv')\n",
    "jetta.head()"
   ],
   "metadata": {
    "collapsed": false
   }
  },
  {
   "cell_type": "markdown",
   "source": [
    "# Segmentação dos vídeos: será que existe um padrão que os une/diferencia em grupos?\n",
    "Vamos descobrir!"
   ],
   "metadata": {
    "collapsed": false
   }
  },
  {
   "cell_type": "code",
   "execution_count": null,
   "outputs": [],
   "source": [
    "# Selecionando as variáveis numéricas\n",
    "segmentacao = jetta[['likes', 'comments', 'shares', 'views', 'duration']]\n",
    "# Inicializando os algoritmos de redução de dimensionalidade, padronização e clusterização\n",
    "pca = PCA(n_components=2)\n",
    "standard_scaler = StandardScaler()\n",
    "kmeans = KMeans(n_clusters=2, n_init=10, max_iter=300)\n",
    "# Padronizando e reduzindo a dimensionalidade\n",
    "segmentacao_scaled = standard_scaler.fit_transform(segmentacao)\n",
    "segmentacao_reduzida = pca.fit_transform(segmentacao_scaled)\n",
    "# Clusterizando\n",
    "segmentacao_kmeans = kmeans.fit(segmentacao_reduzida)\n",
    "# Adicionando os clusters ao dataframe\n",
    "segmentacao['cluster'] = segmentacao_kmeans.labels_"
   ],
   "metadata": {
    "collapsed": false
   }
  },
  {
   "cell_type": "markdown",
   "source": [
    "### Visualização dos clusters"
   ],
   "metadata": {
    "collapsed": false
   }
  },
  {
   "cell_type": "code",
   "execution_count": null,
   "outputs": [],
   "source": [
    "plt.figure(figsize=(10, 10))\n",
    "plt.scatter(segmentacao_reduzida[:, 0], segmentacao_reduzida[:, 1], c=segmentacao_kmeans.labels_, cmap='plasma')\n",
    "plt.show()"
   ],
   "metadata": {
    "collapsed": false
   }
  },
  {
   "cell_type": "markdown",
   "source": [
    "Escolhemos 2 clusters. Mas será que fizemos o número certo? Vamos testar várias possibilidades!"
   ],
   "metadata": {
    "collapsed": false
   }
  },
  {
   "cell_type": "code",
   "execution_count": null,
   "outputs": [],
   "source": [
    "inertia = []\n",
    "for n_clusters in range(2, 10):\n",
    "    kmeans = KMeans(n_clusters=n_clusters, n_init=100, max_iter=1000)\n",
    "    segmentacao_kmeans = kmeans.fit(segmentacao_reduzida)\n",
    "    inertia.append(segmentacao_kmeans.inertia_)\n",
    "plt.figure(figsize=(15, 10))\n",
    "plt.plot(range(2, 10), inertia, '-o')\n",
    "plt.plot([4, 4], [236, 236], 'o', c='red', markersize=16)\n",
    "plt.plot([6, 6], [133, 133], 'o', c='red', markersize=16)\n",
    "plt.show()"
   ],
   "metadata": {
    "collapsed": false
   }
  },
  {
   "cell_type": "markdown",
   "source": [
    "Pelo método do Ombro (Elbow Method), o número ideal de clusters é 6."
   ],
   "metadata": {
    "collapsed": false
   }
  },
  {
   "cell_type": "code",
   "execution_count": null,
   "outputs": [],
   "source": [
    "# Aplicando somente\n",
    "kmeans = KMeans(n_clusters=6, n_init=10, max_iter=1000)\n",
    "segmentacao_kmeans = kmeans.fit(segmentacao_reduzida)\n",
    "segmentacao['cluster'] = segmentacao_kmeans.labels_\n",
    "plt.figure(figsize=(15, 10))\n",
    "plt.scatter(segmentacao_reduzida[:, 0], segmentacao_reduzida[:, 1], c=segmentacao_kmeans.labels_, cmap='plasma')\n",
    "plt.legend(handles=plt.scatter(segmentacao_reduzida[:, 0], segmentacao_reduzida[:, 1], c=segmentacao_kmeans.labels_, cmap='plasma').legend_elements()[0], labels=['Cluster 0', 'Cluster 1', 'Cluster 2', 'Cluster 3', 'Cluster 4', 'Cluster 5'])\n",
    "plt.show()"
   ],
   "metadata": {
    "collapsed": false
   }
  },
  {
   "cell_type": "markdown",
   "source": [
    "### E se não fizéssemos a redução de dimensionalidade (PCA)?"
   ],
   "metadata": {
    "collapsed": false
   }
  },
  {
   "cell_type": "code",
   "execution_count": null,
   "outputs": [],
   "source": [
    "# Aplicando somente\n",
    "kmeans = KMeans(n_clusters=6, n_init=10, max_iter=300)\n",
    "segmentacao_kmeans = kmeans.fit(segmentacao_scaled)\n",
    "segmentacao['cluster'] = segmentacao_kmeans.labels_\n",
    "fig = plt.figure(figsize=(15, 10))\n",
    "ax = fig.add_subplot(projection='3d')\n",
    "ax.scatter(segmentacao_scaled[:, 0], segmentacao_scaled[:, 1], segmentacao_scaled[:, 2], c=segmentacao_kmeans.labels_, cmap='plasma')\n",
    "ax.legend(handles=ax.scatter(segmentacao_scaled[:, 0], segmentacao_scaled[:, 1], segmentacao_scaled[:, 2], c=segmentacao_kmeans.labels_, cmap='plasma').legend_elements()[0], labels=['Cluster 0', 'Cluster 1', 'Cluster 2', 'Cluster 3', 'Cluster 4', 'Cluster 5'])\n",
    "plt.show()"
   ],
   "metadata": {
    "collapsed": false
   }
  },
  {
   "cell_type": "markdown",
   "source": [
    "### Análise dos clusters"
   ],
   "metadata": {
    "collapsed": false
   }
  },
  {
   "cell_type": "code",
   "execution_count": null,
   "outputs": [],
   "source": [
    "segmentacao.groupby('cluster').agg({'likes': ['count','mean'],\n",
    "                           'comments': ['mean'],\n",
    "                           'shares': ['mean'],\n",
    "                           'views': ['mean',],\n",
    "                           'duration': ['mean']}).round(2).sort_values(by=('likes', 'mean'), ascending=False).reset_index()"
   ],
   "metadata": {
    "collapsed": false
   }
  },
  {
   "cell_type": "markdown",
   "source": [
    "Quais são os usuários do cluster que tem maior média de likes?"
   ],
   "metadata": {
    "collapsed": false
   }
  },
  {
   "cell_type": "code",
   "execution_count": null,
   "outputs": [],
   "source": [
    "jetta[segmentacao['cluster'] == 2]['user'].value_counts()"
   ],
   "metadata": {
    "collapsed": false
   }
  },
  {
   "cell_type": "markdown",
   "source": [
    "### Modelagem de tópicos com as hashtags\n",
    "\n",
    "Para trabalharmos com palavras, precisamos transformá-las em números. Um método é o Tf-Idf, que significa Term Frequency, Inverse Document Frequency. É uma conta que considera a frequência do termo *w* no documento *d* sobre o total de termos em *d*. O IDF é o inverso da frequência do termo *w* em todos os documentos. O TF-IDF é o produto desses dois termos. Ele vai falar sobre a importância de cada palavra em cada documento, resumidamente.\n",
    "\n",
    "O NMF é um modelo não-supervisionado que vai decompor a matriz de termos em tópicos. Ele vai tentar encontrar os tópicos que melhor explicam os dados. NMF significa Non-Negative Matrix Factorization, ou Fatoração de Matriz Não-Negativa."
   ],
   "metadata": {
    "collapsed": false
   }
  },
  {
   "cell_type": "code",
   "execution_count": null,
   "outputs": [],
   "source": [
    "stopwords = ['fy', 'viral', 'fyp', 'parati', 'foryou', 'foryoupage', 'fypシ', 'capcut', 'foryourpage']\n",
    "jetta['challenges_clean'] = jetta['challenges'].str.split(', ').apply(lambda x: [word for word in x if word not in stopwords])\n",
    "\n",
    "# Aplica o TFIDF e o NMF\n",
    "tfidf = TfidfVectorizer(max_df=0.9, min_df=0.01, max_features=1000)\n",
    "nmf = NMF(n_components=4)\n",
    "challenges = tfidf.fit_transform(jetta['challenges_clean'].apply(lambda x: ' '.join(x)))\n",
    "challenges_nmf = nmf.fit_transform(challenges)\n",
    "\n",
    "for index, topic in enumerate(nmf.components_):\n",
    "    print(f'Top 15 challenges por tópico: #{index}')\n",
    "    print([tfidf.get_feature_names_out()[i] for i in topic.argsort()[-15:]])\n",
    "    print('\\n')"
   ],
   "metadata": {
    "collapsed": false
   }
  },
  {
   "cell_type": "code",
   "execution_count": null,
   "outputs": [],
   "source": [
    "stopwords = ['fy', 'viral', 'fyp', 'parati', 'foryou', 'foryoupage', 'fypシ', 'capcut', 'foryourpage']\n",
    "jetta['challenges_clean'] = jetta['challenges'].str.split(', ').apply(lambda x: [word for word in x if word not in stopwords])\n",
    "\n",
    "# Aplica o TFIDF e o NMF\n",
    "tfidf = TfidfVectorizer(max_df=0.9, min_df=0.01, max_features=1000)\n",
    "model = LatentDirichletAllocation(n_components=4)\n",
    "challenges = tfidf.fit_transform(jetta['challenges_clean'].apply(lambda x: ' '.join(x)))\n",
    "challenges_nmf = model.fit_transform(challenges)\n",
    "\n",
    "for index, topic in enumerate(model.components_):\n",
    "    print(f'Top 15 challenges por tópico: #{index}')\n",
    "    print([tfidf.get_feature_names_out()[i] for i in topic.argsort()[-15:]])\n",
    "    print('\\n')"
   ],
   "metadata": {
    "collapsed": false
   }
  },
  {
   "cell_type": "code",
   "execution_count": null,
   "outputs": [],
   "source": [],
   "metadata": {
    "collapsed": false
   }
  }
 ],
 "metadata": {
  "kernelspec": {
   "display_name": "Python 3",
   "language": "python",
   "name": "python3"
  },
  "language_info": {
   "codemirror_mode": {
    "name": "ipython",
    "version": 2
   },
   "file_extension": ".py",
   "mimetype": "text/x-python",
   "name": "python",
   "nbconvert_exporter": "python",
   "pygments_lexer": "ipython2",
   "version": "2.7.6"
  }
 },
 "nbformat": 4,
 "nbformat_minor": 0
}
