{
 "cells": [
  {
   "cell_type": "markdown",
   "source": [
    "# Análise de métricas do TikTok - Caso VW Jetta\n",
    "\n",
    "### Prof. Matheus C. Pestana\n",
    "\n",
    "## Bibliotecas"
   ],
   "metadata": {
    "collapsed": false
   }
  },
  {
   "cell_type": "code",
   "execution_count": null,
   "metadata": {
    "collapsed": true,
    "ExecuteTime": {
     "start_time": "2023-08-13T17:32:25.199719Z",
     "end_time": "2023-08-13T17:32:25.205260Z"
    }
   },
   "outputs": [],
   "source": [
    "import pandas as pd\n",
    "import matplotlib.pyplot as plt\n",
    "import numpy as np\n",
    "import seaborn as sns\n",
    "from collections import Counter\n",
    "from wordcloud import WordCloud\n",
    "import warnings\n",
    "warnings.filterwarnings('ignore')"
   ]
  },
  {
   "cell_type": "markdown",
   "source": [
    "## Importando os dados e vendo as primeiras linhas"
   ],
   "metadata": {
    "collapsed": false
   }
  },
  {
   "cell_type": "code",
   "execution_count": null,
   "outputs": [],
   "source": [
    "jetta = pd.read_csv('../bases/jetta_tiktok.csv')\n",
    "jetta.head()"
   ],
   "metadata": {
    "collapsed": false,
    "ExecuteTime": {
     "start_time": "2023-08-13T17:32:26.942294Z",
     "end_time": "2023-08-13T17:32:26.981985Z"
    }
   }
  },
  {
   "cell_type": "markdown",
   "source": [
    "## Análise exploratória\n",
    "\n",
    "Qual o tamanho da base?"
   ],
   "metadata": {
    "collapsed": false
   }
  },
  {
   "cell_type": "code",
   "execution_count": null,
   "outputs": [],
   "source": [
    "n_linhas, n_colunas = jetta.shape\n",
    "print(f\"\"\"O dataset possui:\n",
    "- {n_linhas} linhas\n",
    "- {n_colunas} colunas\"\"\")"
   ],
   "metadata": {
    "collapsed": false,
    "ExecuteTime": {
     "start_time": "2023-08-13T17:32:28.186975Z",
     "end_time": "2023-08-13T17:32:28.198900Z"
    }
   }
  },
  {
   "cell_type": "markdown",
   "source": [
    "### Informações sobre as variáveis"
   ],
   "metadata": {
    "collapsed": false
   }
  },
  {
   "cell_type": "code",
   "execution_count": null,
   "outputs": [],
   "source": [
    "jetta.info()"
   ],
   "metadata": {
    "collapsed": false,
    "ExecuteTime": {
     "start_time": "2023-08-13T17:32:29.266034Z",
     "end_time": "2023-08-13T17:32:29.269379Z"
    }
   }
  },
  {
   "cell_type": "markdown",
   "source": [
    "## Variáveis numéricas\n",
    "\n",
    "### Média, desvio padrão, mínimo, máximo e quartis das variáveis numéricas"
   ],
   "metadata": {
    "collapsed": false
   }
  },
  {
   "cell_type": "code",
   "execution_count": null,
   "outputs": [],
   "source": [
    "jetta.describe()"
   ],
   "metadata": {
    "collapsed": false,
    "ExecuteTime": {
     "start_time": "2023-08-13T17:32:30.255346Z",
     "end_time": "2023-08-13T17:32:30.265890Z"
    }
   }
  },
  {
   "cell_type": "markdown",
   "source": [
    "### Plotando essas variáveis"
   ],
   "metadata": {
    "collapsed": false
   }
  },
  {
   "cell_type": "code",
   "execution_count": null,
   "outputs": [],
   "source": [
    "# um gráfico\n",
    "plt.figure(figsize=(15, 10))\n",
    "plt.subplot(321)\n",
    "sns.histplot(data=jetta, x='likes', bins=20, color='green')\n",
    "# outro gráfico\n",
    "plt.subplot(322)\n",
    "sns.histplot(data=jetta, x='comments', bins=20, color='red')\n",
    "# outro gráfico\n",
    "plt.subplot(323)\n",
    "sns.histplot(data=jetta, x='shares', bins=20, color='orange')\n",
    "# mais um\n",
    "plt.subplot(324)\n",
    "sns.histplot(data=jetta, x='views', bins=20, color='blue')\n",
    "# mais outro\n",
    "plt.subplot(313)\n",
    "sns.histplot(data=jetta, x='duration', bins=20, color='purple')\n",
    "plt.show()"
   ],
   "metadata": {
    "collapsed": false,
    "ExecuteTime": {
     "start_time": "2023-08-13T17:32:31.355902Z",
     "end_time": "2023-08-13T17:32:31.860263Z"
    }
   }
  },
  {
   "cell_type": "markdown",
   "source": [
    "### Será que quanto mais views, mais likes? Vamos testar!"
   ],
   "metadata": {
    "collapsed": false
   }
  },
  {
   "cell_type": "code",
   "execution_count": null,
   "outputs": [],
   "source": [
    "plt.figure(figsize=(15, 10))\n",
    "sns.jointplot(data=jetta, x='views', y='likes',\n",
    "              line_kws={'color': 'red'},\n",
    "              scatter_kws={'color': 'green'},\n",
    "              kind='reg')\n",
    "plt.show()"
   ],
   "metadata": {
    "collapsed": false,
    "ExecuteTime": {
     "start_time": "2023-08-13T17:32:33.325497Z",
     "end_time": "2023-08-13T17:32:33.810287Z"
    }
   }
  },
  {
   "cell_type": "markdown",
   "source": [
    "O que percebemos aqui é que os valores se concentram muito no início, ou seja, com menos de 5000000.\n",
    "Vamos limitar nossa visualização para posts com até 550000 de likes e 3000000 de views."
   ],
   "metadata": {
    "collapsed": false
   }
  },
  {
   "cell_type": "code",
   "execution_count": null,
   "outputs": [],
   "source": [
    "fig, ax = plt.subplots(figsize=(15, 10))\n",
    "ax.set_xlim(0, 3000000)\n",
    "ax.set_ylim(0, 550000)\n",
    "sns.regplot(data=jetta, x='views', y='likes',\n",
    "              line_kws={'color': 'red'},\n",
    "              scatter_kws={'color': 'green'},\n",
    "              ax=ax)\n",
    "plt.show()"
   ],
   "metadata": {
    "collapsed": false,
    "ExecuteTime": {
     "start_time": "2023-08-13T17:32:35.029696Z",
     "end_time": "2023-08-13T17:32:35.201983Z"
    }
   }
  },
  {
   "cell_type": "markdown",
   "source": [
    "### Será que quanto mais views, mais comentários? Vamos testar!"
   ],
   "metadata": {
    "collapsed": false
   }
  },
  {
   "cell_type": "code",
   "execution_count": null,
   "outputs": [],
   "source": [
    "plt.figure(figsize=(15, 10))\n",
    "sns.jointplot(data=jetta, x='views', y='comments',\n",
    "              line_kws={'color': 'red'},\n",
    "              scatter_kws={'color': 'green'},\n",
    "              kind='reg')\n",
    "plt.show()"
   ],
   "metadata": {
    "collapsed": false,
    "ExecuteTime": {
     "start_time": "2023-08-13T17:32:36.437143Z",
     "end_time": "2023-08-13T17:32:36.775557Z"
    }
   }
  },
  {
   "cell_type": "code",
   "execution_count": null,
   "outputs": [],
   "source": [
    "sns.pairplot(data=jetta, vars=['likes', 'comments', 'shares', 'views', 'duration'], kind='reg')"
   ],
   "metadata": {
    "collapsed": false,
    "ExecuteTime": {
     "start_time": "2023-08-13T17:32:37.358648Z",
     "end_time": "2023-08-13T17:32:41.644989Z"
    }
   }
  },
  {
   "cell_type": "markdown",
   "source": [
    "### Estatísticas por autor"
   ],
   "metadata": {
    "collapsed": false
   }
  },
  {
   "cell_type": "code",
   "execution_count": null,
   "outputs": [],
   "source": [
    "# Calculando média, mínimo e máximo de cada uma das variáveis numéricas. O count é para contar o número de vídeos postados por cada autor, podendo ser usado em qualquer variável (pois contará o número de linhas)\n",
    "jetta.groupby('user').agg({'likes': ['count','mean', 'min', 'max'],\n",
    "                           'comments': ['mean', 'min', 'max'],\n",
    "                           'shares': ['mean', 'min', 'max'],\n",
    "                           'views': ['mean', 'min', 'max'],\n",
    "                           'duration': ['mean', 'min', 'max']}).round(2).sort_values(by=('likes', 'mean'), ascending=False).reset_index()"
   ],
   "metadata": {
    "collapsed": false,
    "ExecuteTime": {
     "start_time": "2023-08-13T17:32:41.650346Z",
     "end_time": "2023-08-13T17:32:41.842296Z"
    }
   }
  },
  {
   "cell_type": "markdown",
   "source": [
    "Lembrando que a coluna likes count é, na verdade, o número de vídeos.\n",
    "\n",
    "# Pergunta: Se eu fosse a Volkswagen e fosse escolher 3 influencers para fazer uma campanha, quais eu escolheria? Justifique sua resposta baseando-se nas métricas."
   ],
   "metadata": {
    "collapsed": false
   }
  },
  {
   "cell_type": "markdown",
   "source": [
    "## Tempo\n",
    "\n",
    "Como será que os vídeos sobre o Jetta estão distribuídos ao longo do tempo?"
   ],
   "metadata": {
    "collapsed": false
   }
  },
  {
   "cell_type": "code",
   "execution_count": null,
   "outputs": [],
   "source": [
    "jetta_tempo = jetta.copy()\n",
    "# Transformando a coluna date em formato de data do Python\n",
    "jetta_tempo['date'] = pd.to_datetime(jetta_tempo['date'])\n",
    "# Criando uma coluna com o mês e o ano\n",
    "jetta_tempo['month_year'] = jetta_tempo['date'].dt.to_period('M')\n",
    "# Transformando a coluna em string\n",
    "jetta_tempo['month_year'] = jetta_tempo['month_year'].astype(str)\n",
    "# Contando o número de vídeos por mês\n",
    "jetta_tempo = jetta_tempo.groupby('month_year')['likes'].count().reset_index().rename(columns={'likes': 'count'})\n",
    "# Plotando o gráfico\n",
    "plt.figure(figsize=(20, 10))\n",
    "sns.lineplot(data=jetta_tempo, x='month_year', y='count')"
   ],
   "metadata": {
    "collapsed": false,
    "ExecuteTime": {
     "start_time": "2023-08-13T17:32:44.801733Z",
     "end_time": "2023-08-13T17:32:45.188242Z"
    }
   }
  },
  {
   "cell_type": "markdown",
   "source": [
    "### Agora vamos analisar como os likes estão distribuídos ao longo do tempo e juntar os dois gráficos"
   ],
   "metadata": {
    "collapsed": false
   }
  },
  {
   "cell_type": "code",
   "execution_count": null,
   "outputs": [],
   "source": [
    "# Fazer o mesmo para os likes\n",
    "jetta_tempo_likes = jetta.copy()\n",
    "jetta_tempo_likes['date'] = pd.to_datetime(jetta_tempo_likes['date'])\n",
    "jetta_tempo_likes['month_year'] = jetta_tempo_likes['date'].dt.to_period('M')\n",
    "jetta_tempo_likes['month_year'] = jetta_tempo_likes['month_year'].astype(str)\n",
    "jetta_tempo_likes = jetta_tempo_likes.groupby('month_year')['likes'].sum().reset_index()\n",
    "jetta_tempo_likes"
   ],
   "metadata": {
    "collapsed": false,
    "ExecuteTime": {
     "start_time": "2023-08-13T17:32:46.504915Z",
     "end_time": "2023-08-13T17:32:46.508718Z"
    }
   }
  },
  {
   "cell_type": "code",
   "execution_count": null,
   "outputs": [],
   "source": [
    "plt.subplot(211)\n",
    "sns.lineplot(data=jetta_tempo, x='month_year', y='count')\n",
    "plt.subplot(212)\n",
    "sns.lineplot(data=jetta_tempo_likes, x='month_year', y='likes')\n",
    "plt.show()"
   ],
   "metadata": {
    "collapsed": false,
    "ExecuteTime": {
     "start_time": "2023-08-13T17:32:47.310191Z",
     "end_time": "2023-08-13T17:32:47.840144Z"
    }
   }
  },
  {
   "cell_type": "markdown",
   "source": [
    "## Quais as hashtags mais usadas?\n",
    "\n",
    "O Tiktok chama as hashtags de Challenges"
   ],
   "metadata": {
    "collapsed": false
   }
  },
  {
   "cell_type": "code",
   "execution_count": null,
   "outputs": [],
   "source": [
    "jetta_challenges = jetta.copy()\n",
    "jetta_challenges['challenges'] = jetta_challenges['challenges'].str.split(', ')\n",
    "# Conta todas os itens da lista com Counter\n",
    "pd.DataFrame(Counter(jetta_challenges['challenges'].sum()).most_common(30))"
   ],
   "metadata": {
    "collapsed": false,
    "ExecuteTime": {
     "start_time": "2023-08-13T17:32:48.629878Z",
     "end_time": "2023-08-13T17:32:48.661551Z"
    }
   }
  },
  {
   "cell_type": "markdown",
   "source": [
    "### Nuvem de palavra com as hashtags"
   ],
   "metadata": {
    "collapsed": false
   }
  },
  {
   "cell_type": "code",
   "execution_count": null,
   "outputs": [],
   "source": [
    "wordcloud = WordCloud(width=800, height=400, max_font_size=150, max_words=100, background_color='white').generate(' '.join(jetta_challenges['challenges'].sum()))\n",
    "plt.figure(figsize=(12, 10))\n",
    "plt.imshow(wordcloud, interpolation='bilinear')\n",
    "plt.axis('off')\n",
    "plt.show()"
   ],
   "metadata": {
    "collapsed": false,
    "ExecuteTime": {
     "start_time": "2023-08-13T17:37:43.935857Z",
     "end_time": "2023-08-13T17:37:44.580078Z"
    }
   }
  },
  {
   "cell_type": "code",
   "execution_count": null,
   "outputs": [],
   "source": [],
   "metadata": {
    "collapsed": false
   }
  }
 ],
 "metadata": {
  "kernelspec": {
   "display_name": "Python 3",
   "language": "python",
   "name": "python3"
  },
  "language_info": {
   "codemirror_mode": {
    "name": "ipython",
    "version": 2
   },
   "file_extension": ".py",
   "mimetype": "text/x-python",
   "name": "python",
   "nbconvert_exporter": "python",
   "pygments_lexer": "ipython2",
   "version": "2.7.6"
  }
 },
 "nbformat": 4,
 "nbformat_minor": 0
}
